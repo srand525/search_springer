{
 "cells": [
  {
   "cell_type": "code",
   "execution_count": 22,
   "metadata": {},
   "outputs": [
    {
     "data": {
      "text/plain": [
       "<module 'main' from '/Users/sophierand/Desktop/github_edits/Springer_Search/main.py'>"
      ]
     },
     "execution_count": 22,
     "metadata": {},
     "output_type": "execute_result"
    }
   ],
   "source": [
    "import helper\n",
    "import importlib\n",
    "import SpringerFetch\n",
    "import SpringerParse\n",
    "import main\n",
    "# import SpringerPush\n",
    "importlib.reload(helper)\n",
    "importlib.reload(SpringerFetch)\n",
    "importlib.reload(SpringerParse)\n",
    "importlib.reload(main)\n"
   ]
  },
  {
   "cell_type": "code",
   "execution_count": 25,
   "metadata": {},
   "outputs": [],
   "source": [
    "api_key = 'f769b196821d177a5ca1d3252cb0bb2f'\n",
    "input_term = \"syndromic surveillance\""
   ]
  },
  {
   "cell_type": "markdown",
   "metadata": {},
   "source": [
    "### Search and Fetch"
   ]
  },
  {
   "cell_type": "markdown",
   "metadata": {},
   "source": [
    "Search Springer database for literature matching the search criteria"
   ]
  },
  {
   "cell_type": "code",
   "execution_count": 29,
   "metadata": {},
   "outputs": [],
   "source": [
    "record_count, prop_dict = main.springer_search_fetch(input_term = input_term,api_key = api_key)"
   ]
  },
  {
   "cell_type": "code",
   "execution_count": 30,
   "metadata": {},
   "outputs": [
    {
     "name": "stdout",
     "output_type": "stream",
     "text": [
      "Your search for term 'syndromic surveillance' in the springer database returned 31 results\n"
     ]
    }
   ],
   "source": [
    "search_summary = \"Your search for term '{0}' in the {1} database returned {2} results\"\n",
    "print(search_summary.format(prop_dict['input_term'],prop_dict['input_db'],prop_dict['record_count']))"
   ]
  },
  {
   "cell_type": "markdown",
   "metadata": {},
   "source": [
    "### Parse"
   ]
  },
  {
   "cell_type": "markdown",
   "metadata": {},
   "source": [
    "Parse the returns from the API into relational tables."
   ]
  },
  {
   "cell_type": "code",
   "execution_count": 32,
   "metadata": {},
   "outputs": [],
   "source": [
    "SpringerParse.main()"
   ]
  },
  {
   "cell_type": "code",
   "execution_count": 33,
   "metadata": {},
   "outputs": [],
   "source": [
    "results = helper.id_run(\"parse\",\"springer\")\n",
    "prop_dict = SpringerParse.parse_properties(results)"
   ]
  },
  {
   "cell_type": "code",
   "execution_count": 35,
   "metadata": {},
   "outputs": [
    {
     "name": "stdout",
     "output_type": "stream",
     "text": [
      "You parsed 31 documents from the springer database into a table with columns: abstract , associatedId , author , journalISO , journalName , meshterms , optionalId01 , optionalId02 , publishdate , publishdatefull , pubtype , pullsource , title database\n"
     ]
    }
   ],
   "source": [
    "parse_summary = \"You parsed {0} documents from the {1} database into a table with columns: {2} database\"\n",
    "print(parse_summary.format(results.shape[0], prop_dict['input_db'],\" , \".join(results.columns.values.tolist())))"
   ]
  },
  {
   "cell_type": "markdown",
   "metadata": {},
   "source": [
    "### Results"
   ]
  },
  {
   "cell_type": "markdown",
   "metadata": {},
   "source": [
    "Your resulting dataframe looks like this:"
   ]
  },
  {
   "cell_type": "code",
   "execution_count": 36,
   "metadata": {},
   "outputs": [
    {
     "data": {
      "text/html": [
       "<div>\n",
       "<style scoped>\n",
       "    .dataframe tbody tr th:only-of-type {\n",
       "        vertical-align: middle;\n",
       "    }\n",
       "\n",
       "    .dataframe tbody tr th {\n",
       "        vertical-align: top;\n",
       "    }\n",
       "\n",
       "    .dataframe thead th {\n",
       "        text-align: right;\n",
       "    }\n",
       "</style>\n",
       "<table border=\"1\" class=\"dataframe\">\n",
       "  <thead>\n",
       "    <tr style=\"text-align: right;\">\n",
       "      <th></th>\n",
       "      <th>abstract</th>\n",
       "      <th>associatedId</th>\n",
       "      <th>author</th>\n",
       "      <th>journalISO</th>\n",
       "      <th>journalName</th>\n",
       "      <th>meshterms</th>\n",
       "      <th>optionalId01</th>\n",
       "      <th>optionalId02</th>\n",
       "      <th>publishdate</th>\n",
       "      <th>publishdatefull</th>\n",
       "      <th>pubtype</th>\n",
       "      <th>pullsource</th>\n",
       "      <th>title</th>\n",
       "    </tr>\n",
       "  </thead>\n",
       "  <tbody>\n",
       "    <tr>\n",
       "      <th>0</th>\n",
       "      <td>AbstractScoring rules are traditional techniqu...</td>\n",
       "      <td>doi:10.1007/s40070-018-0081-8</td>\n",
       "      <td>[{'fname': ' Arthur', 'lname': 'Carvalho', 'co...</td>\n",
       "      <td>40070</td>\n",
       "      <td>EURO Journal on Decision Processes</td>\n",
       "      <td>[]</td>\n",
       "      <td>10.1007/s40070-018-0081-8</td>\n",
       "      <td>2193-9446</td>\n",
       "      <td>None</td>\n",
       "      <td>2018-11-01</td>\n",
       "      <td>OriginalPaper</td>\n",
       "      <td>springer</td>\n",
       "      <td>On proper scoring rules and cumulative prospec...</td>\n",
       "    </tr>\n",
       "    <tr>\n",
       "      <th>1</th>\n",
       "      <td>AbstractCovariance operators are fundamental i...</td>\n",
       "      <td>doi:10.1007/s13171-018-0130-1</td>\n",
       "      <td>[{'fname': ' Valentina', 'lname': 'Masarotto',...</td>\n",
       "      <td>13171</td>\n",
       "      <td>Sankhya A</td>\n",
       "      <td>[]</td>\n",
       "      <td>10.1007/s13171-018-0130-1</td>\n",
       "      <td>0976-8378</td>\n",
       "      <td>None</td>\n",
       "      <td>2018-05-25</td>\n",
       "      <td>OriginalPaper</td>\n",
       "      <td>springer</td>\n",
       "      <td>Procrustes Metrics on Covariance Operators and...</td>\n",
       "    </tr>\n",
       "    <tr>\n",
       "      <th>2</th>\n",
       "      <td>AbstractOptomechanics describes the interactio...</td>\n",
       "      <td>doi:10.1007/s10773-017-3628-8</td>\n",
       "      <td>[{'fname': ' Shao-Shuai', 'lname': 'Lu', 'cont...</td>\n",
       "      <td>10773</td>\n",
       "      <td>International Journal of Theoretical Physics</td>\n",
       "      <td>[]</td>\n",
       "      <td>10.1007/s10773-017-3628-8</td>\n",
       "      <td>1572-9575</td>\n",
       "      <td>None</td>\n",
       "      <td>2018-04-01</td>\n",
       "      <td>OriginalPaper</td>\n",
       "      <td>springer</td>\n",
       "      <td>The Nonlinear Effects of a Kerr-Resonator Opto...</td>\n",
       "    </tr>\n",
       "    <tr>\n",
       "      <th>3</th>\n",
       "      <td>AbstractBackgroundNon-specific chronic low bac...</td>\n",
       "      <td>doi:10.1186/s12998-017-0162-y</td>\n",
       "      <td>[{'fname': ' Rasool', 'lname': 'Bagheri', 'con...</td>\n",
       "      <td>12998</td>\n",
       "      <td>Chiropractic &amp; Manual Therapies</td>\n",
       "      <td>[]</td>\n",
       "      <td>10.1186/s12998-017-0162-y</td>\n",
       "      <td>2045-709X</td>\n",
       "      <td>None</td>\n",
       "      <td>2017-11-16</td>\n",
       "      <td>OriginalPaper</td>\n",
       "      <td>springer</td>\n",
       "      <td>A protocol for clinical trial study of the eff...</td>\n",
       "    </tr>\n",
       "    <tr>\n",
       "      <th>4</th>\n",
       "      <td>AbstractMany communication systems based on th...</td>\n",
       "      <td>doi:10.1007/s40314-017-0519-9</td>\n",
       "      <td>[{'fname': ' Renato', 'lname': 'Candido', 'con...</td>\n",
       "      <td>40314</td>\n",
       "      <td>Computational and Applied Mathematics</td>\n",
       "      <td>[]</td>\n",
       "      <td>10.1007/s40314-017-0519-9</td>\n",
       "      <td>1807-0302</td>\n",
       "      <td>None</td>\n",
       "      <td>2017-10-12</td>\n",
       "      <td>OriginalPaper</td>\n",
       "      <td>springer</td>\n",
       "      <td>A new encoding and switching scheme for chaos-...</td>\n",
       "    </tr>\n",
       "  </tbody>\n",
       "</table>\n",
       "</div>"
      ],
      "text/plain": [
       "                                            abstract  \\\n",
       "0  AbstractScoring rules are traditional techniqu...   \n",
       "1  AbstractCovariance operators are fundamental i...   \n",
       "2  AbstractOptomechanics describes the interactio...   \n",
       "3  AbstractBackgroundNon-specific chronic low bac...   \n",
       "4  AbstractMany communication systems based on th...   \n",
       "\n",
       "                    associatedId  \\\n",
       "0  doi:10.1007/s40070-018-0081-8   \n",
       "1  doi:10.1007/s13171-018-0130-1   \n",
       "2  doi:10.1007/s10773-017-3628-8   \n",
       "3  doi:10.1186/s12998-017-0162-y   \n",
       "4  doi:10.1007/s40314-017-0519-9   \n",
       "\n",
       "                                              author journalISO  \\\n",
       "0  [{'fname': ' Arthur', 'lname': 'Carvalho', 'co...      40070   \n",
       "1  [{'fname': ' Valentina', 'lname': 'Masarotto',...      13171   \n",
       "2  [{'fname': ' Shao-Shuai', 'lname': 'Lu', 'cont...      10773   \n",
       "3  [{'fname': ' Rasool', 'lname': 'Bagheri', 'con...      12998   \n",
       "4  [{'fname': ' Renato', 'lname': 'Candido', 'con...      40314   \n",
       "\n",
       "                                    journalName meshterms  \\\n",
       "0            EURO Journal on Decision Processes        []   \n",
       "1                                     Sankhya A        []   \n",
       "2  International Journal of Theoretical Physics        []   \n",
       "3               Chiropractic & Manual Therapies        []   \n",
       "4         Computational and Applied Mathematics        []   \n",
       "\n",
       "                optionalId01 optionalId02 publishdate publishdatefull  \\\n",
       "0  10.1007/s40070-018-0081-8    2193-9446        None      2018-11-01   \n",
       "1  10.1007/s13171-018-0130-1    0976-8378        None      2018-05-25   \n",
       "2  10.1007/s10773-017-3628-8    1572-9575        None      2018-04-01   \n",
       "3  10.1186/s12998-017-0162-y    2045-709X        None      2017-11-16   \n",
       "4  10.1007/s40314-017-0519-9    1807-0302        None      2017-10-12   \n",
       "\n",
       "         pubtype pullsource                                              title  \n",
       "0  OriginalPaper   springer  On proper scoring rules and cumulative prospec...  \n",
       "1  OriginalPaper   springer  Procrustes Metrics on Covariance Operators and...  \n",
       "2  OriginalPaper   springer  The Nonlinear Effects of a Kerr-Resonator Opto...  \n",
       "3  OriginalPaper   springer  A protocol for clinical trial study of the eff...  \n",
       "4  OriginalPaper   springer  A new encoding and switching scheme for chaos-...  "
      ]
     },
     "execution_count": 36,
     "metadata": {},
     "output_type": "execute_result"
    }
   ],
   "source": [
    "results.head()"
   ]
  },
  {
   "cell_type": "code",
   "execution_count": 38,
   "metadata": {},
   "outputs": [],
   "source": [
    "helper.clean_folder()"
   ]
  },
  {
   "cell_type": "code",
   "execution_count": null,
   "metadata": {},
   "outputs": [],
   "source": []
  }
 ],
 "metadata": {
  "kernelspec": {
   "display_name": "Python 3",
   "language": "python",
   "name": "python3"
  },
  "language_info": {
   "codemirror_mode": {
    "name": "ipython",
    "version": 3
   },
   "file_extension": ".py",
   "mimetype": "text/x-python",
   "name": "python",
   "nbconvert_exporter": "python",
   "pygments_lexer": "ipython3",
   "version": "3.7.2"
  }
 },
 "nbformat": 4,
 "nbformat_minor": 2
}
